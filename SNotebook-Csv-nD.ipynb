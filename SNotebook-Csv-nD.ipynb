{
 "cells": [
  {
   "cell_type": "code",
   "execution_count": 1,
   "id": "d07c78a7",
   "metadata": {},
   "outputs": [],
   "source": [
    "import matplotlib.pyplot as plt\n",
    "import numpy as np\n",
    "import importlib\n",
    "import Scsv\n"
   ]
  },
  {
   "cell_type": "code",
   "execution_count": 2,
   "id": "0d18e6a6",
   "metadata": {},
   "outputs": [],
   "source": [
    "# %matplotlib widget"
   ]
  },
  {
   "cell_type": "code",
   "execution_count": 3,
   "id": "ef3c95a4",
   "metadata": {},
   "outputs": [
    {
     "name": "stdout",
     "output_type": "stream",
     "text": [
      "Using matplotlib backend: agg\n"
     ]
    }
   ],
   "source": [
    "%matplotlib"
   ]
  },
  {
   "cell_type": "code",
   "execution_count": 4,
   "id": "f4d42a08",
   "metadata": {},
   "outputs": [],
   "source": [
    "from mpl_toolkits.mplot3d import Axes3D\n",
    "import matplotlib.pyplot as plt\n",
    "import numpy as np\n",
    "import sys\n",
    "from operator import add\n",
    "\n",
    "from pyspark.sql import SparkSession\n",
    "from pyspark.sql import Row\n",
    "from pyspark.ml.feature import RegexTokenizer\n",
    "from pyspark.ml.feature import Word2Vec\n",
    "from pyspark.ml.feature import StopWordsRemover"
   ]
  },
  {
   "cell_type": "code",
   "execution_count": 5,
   "id": "b2f2a504",
   "metadata": {},
   "outputs": [],
   "source": [
    "USE_STOP_LIST=False\n",
    "LAYERS=100\n",
    "# MASTER= \"spark://virtual01-virtualbox:7077\"\n",
    "MASTER= \"local[*]\"\n"
   ]
  },
  {
   "cell_type": "code",
   "execution_count": 6,
   "id": "9450ddc3",
   "metadata": {},
   "outputs": [],
   "source": [
    "\n",
    "spark = SparkSession.builder\\\n",
    "    .appName(\"MyProj\")\\\n",
    "    .master(MASTER)\\\n",
    "    .config(\"spark.sql.repl.eagerEval.enabled\", True)\\\n",
    "    .getOrCreate()\n",
    "\n",
    "fname=\"hdfs://zuk:9000/dataset/twitter/Tweets.csv\""
   ]
  },
  {
   "cell_type": "code",
   "execution_count": 7,
   "id": "df1a01ef",
   "metadata": {
    "scrolled": false
   },
   "outputs": [],
   "source": [
    "df = spark.read.option(\"header\",True).csv(fname)\\\n",
    "    .select(\"airline_sentiment\",\"text\")\n",
    "\n",
    "rter = RegexTokenizer(inputCol=\"text\", outputCol=\"token\", pattern=\"[\\\\W]+\", minTokenLength=3)\n",
    "tokenized = rter.transform(df.na.fill(' '))"
   ]
  },
  {
   "cell_type": "code",
   "execution_count": 8,
   "id": "d19ed3da",
   "metadata": {
    "scrolled": true
   },
   "outputs": [
    {
     "data": {
      "text/plain": [
       "14837"
      ]
     },
     "execution_count": 8,
     "metadata": {},
     "output_type": "execute_result"
    }
   ],
   "source": [
    "more_stopwords=[\"virginamerica\",\"https\",\"ual\",\"nyc\"]\n",
    "\n",
    "if USE_STOP_LIST==True:\n",
    "    more_stopwords.extend(StopWordsRemover().getStopWords())\n",
    "\n",
    "remover = StopWordsRemover(inputCol=\"token\", outputCol=\"rtoken\").setStopWords(more_stopwords)\n",
    "removed = remover.transform(tokenized)\n",
    "\n",
    "removed.count()"
   ]
  },
  {
   "cell_type": "code",
   "execution_count": 9,
   "id": "c661f91e",
   "metadata": {
    "scrolled": true
   },
   "outputs": [
    {
     "data": {
      "text/html": [
       "<table border='1'>\n",
       "<tr><th>airline_sentiment</th><th>rtoken</th></tr>\n",
       "<tr><td>neutral</td><td>[what, dhepburn, ...</td></tr>\n",
       "<tr><td>positive</td><td>[plus, you, added...</td></tr>\n",
       "<tr><td>neutral</td><td>[didn, today, mus...</td></tr>\n",
       "<tr><td>negative</td><td>[really, aggressi...</td></tr>\n",
       "<tr><td>negative</td><td>[and, really, big...</td></tr>\n",
       "<tr><td>negative</td><td>[seriously, would...</td></tr>\n",
       "<tr><td> </td><td>[]</td></tr>\n",
       "<tr><td>positive</td><td>[yes, nearly, eve...</td></tr>\n",
       "<tr><td>neutral</td><td>[really, missed, ...</td></tr>\n",
       "<tr><td>positive</td><td>[well, didn, but,...</td></tr>\n",
       "</table>\n"
      ],
      "text/plain": [
       "+-----------------+--------------------+\n",
       "|airline_sentiment|              rtoken|\n",
       "+-----------------+--------------------+\n",
       "|          neutral|[what, dhepburn, ...|\n",
       "|         positive|[plus, you, added...|\n",
       "|          neutral|[didn, today, mus...|\n",
       "|         negative|[really, aggressi...|\n",
       "|         negative|[and, really, big...|\n",
       "|         negative|[seriously, would...|\n",
       "|                 |                  []|\n",
       "|         positive|[yes, nearly, eve...|\n",
       "|          neutral|[really, missed, ...|\n",
       "|         positive|[well, didn, but,...|\n",
       "+-----------------+--------------------+"
      ]
     },
     "execution_count": 9,
     "metadata": {},
     "output_type": "execute_result"
    }
   ],
   "source": [
    "removed.select(\"airline_sentiment\",\"rtoken\").limit(10)"
   ]
  },
  {
   "cell_type": "code",
   "execution_count": 12,
   "id": "c9aa7dcd",
   "metadata": {},
   "outputs": [],
   "source": [
    "oname = fname.replace(\"/\", \"\").replace(\":\", \"\")\n",
    "# !transform data\n",
    "\n",
    "word2Vec = Word2Vec(vectorSize=LAYERS, minCount=2,\n",
    "                    inputCol=\"rtoken\", outputCol=\"vector\")\n",
    "\n",
    "model = word2Vec.fit(removed)\n",
    "\n",
    "\n",
    "result = model.transform(removed)"
   ]
  },
  {
   "cell_type": "code",
   "execution_count": 13,
   "id": "ed4ac50f",
   "metadata": {
    "scrolled": true
   },
   "outputs": [
    {
     "data": {
      "text/html": [
       "<table border='1'>\n",
       "<tr><th>word</th><th>similarity</th></tr>\n",
       "<tr><td>dozen</td><td>0.9289740324020386</td></tr>\n",
       "<tr><td>jeff</td><td>0.925881028175354</td></tr>\n",
       "<tr><td>military</td><td>0.9245061874389648</td></tr>\n",
       "<tr><td>expensive</td><td>0.9239490628242493</td></tr>\n",
       "<tr><td>coworker</td><td>0.9230392575263977</td></tr>\n",
       "<tr><td>fire</td><td>0.9224805235862732</td></tr>\n",
       "<tr><td>local</td><td>0.9211093783378601</td></tr>\n",
       "<tr><td>reference</td><td>0.920864462852478</td></tr>\n",
       "<tr><td>biggest</td><td>0.9202502369880676</td></tr>\n",
       "<tr><td>codeshare</td><td>0.9200882911682129</td></tr>\n",
       "</table>\n"
      ],
      "text/plain": [
       "+---------+------------------+\n",
       "|     word|        similarity|\n",
       "+---------+------------------+\n",
       "|    dozen|0.9289740324020386|\n",
       "|     jeff| 0.925881028175354|\n",
       "| military|0.9245061874389648|\n",
       "|expensive|0.9239490628242493|\n",
       "| coworker|0.9230392575263977|\n",
       "|     fire|0.9224805235862732|\n",
       "|    local|0.9211093783378601|\n",
       "|reference| 0.920864462852478|\n",
       "|  biggest|0.9202502369880676|\n",
       "|codeshare|0.9200882911682129|\n",
       "+---------+------------------+"
      ]
     },
     "execution_count": 13,
     "metadata": {},
     "output_type": "execute_result"
    }
   ],
   "source": [
    "model.findSynonyms(\"rain\",10)\n"
   ]
  },
  {
   "cell_type": "code",
   "execution_count": 14,
   "id": "d2bb5b6f",
   "metadata": {},
   "outputs": [
    {
     "name": "stdout",
     "output_type": "stream",
     "text": [
      "root\n",
      " |-- airline_sentiment: string (nullable = false)\n",
      " |-- text: string (nullable = false)\n",
      " |-- token: array (nullable = true)\n",
      " |    |-- element: string (containsNull = true)\n",
      " |-- rtoken: array (nullable = true)\n",
      " |    |-- element: string (containsNull = true)\n",
      " |-- vector: vector (nullable = true)\n",
      "\n"
     ]
    },
    {
     "data": {
      "text/plain": [
       "14837"
      ]
     },
     "execution_count": 14,
     "metadata": {},
     "output_type": "execute_result"
    }
   ],
   "source": [
    "result.printSchema()\n",
    "result.count()"
   ]
  },
  {
   "cell_type": "code",
   "execution_count": 15,
   "id": "923a16a8",
   "metadata": {},
   "outputs": [
    {
     "name": "stdout",
     "output_type": "stream",
     "text": [
      "+-----------------+-----+\n",
      "|airline_sentiment|count|\n",
      "+-----------------+-----+\n",
      "|         negative| 9178|\n",
      "|          neutral| 3099|\n",
      "|         positive| 2363|\n",
      "+-----------------+-----+\n",
      "\n"
     ]
    }
   ],
   "source": [
    "from pyspark.sql.functions import col\n",
    "df1 = df.filter(\"airline_sentiment = \\\"positive\\\" OR airline_sentiment = \\\"neutral\\\" OR airline_sentiment = \\\"negative\\\"\")\n",
    "# unknown sentiment values are removed\n",
    "\n",
    "df1.groupBy(\"airline_sentiment\")\\\n",
    "    .count()\\\n",
    "    .orderBy(col(\"count\").desc())\\\n",
    "    .show()"
   ]
  },
  {
   "cell_type": "code",
   "execution_count": 16,
   "id": "ff291fdf",
   "metadata": {},
   "outputs": [],
   "source": [
    "# pipelined, very simplified\n",
    "\n",
    "from pyspark.ml import Pipeline\n",
    "from pyspark.ml.feature import OneHotEncoder, StringIndexer, VectorAssembler\n",
    "\n",
    "df2 =  df1.na.fill(\"\")\n",
    "label_stringIdx = StringIndexer(inputCol=\"airline_sentiment\", outputCol=\"label\")\n",
    "\n",
    "pipeline=Pipeline(stages = [rter, remover, word2Vec,label_stringIdx])\n",
    "\n",
    "pipelineFit = pipeline.fit(df2)\n",
    "\n",
    "df3 = pipelineFit.transform(df2)"
   ]
  },
  {
   "cell_type": "code",
   "execution_count": 17,
   "id": "6b944eac",
   "metadata": {},
   "outputs": [
    {
     "name": "stdout",
     "output_type": "stream",
     "text": [
      "train = 11041, test count= 3599\n"
     ]
    }
   ],
   "source": [
    "# training (multi-class-text-classification-with-pyspark)\n",
    "# ref: https://towardsdatascience.com/multi-class-text-classification-with-pyspark-7d78d022ed35\n",
    "\n",
    "(trainingDf, testDf) = df3.randomSplit([0.75,0.25], seed=100)\n",
    "\n",
    "print(f\"train = {trainingDf.count()}, test count= {testDf.count()}\")"
   ]
  },
  {
   "cell_type": "code",
   "execution_count": 16,
   "id": "3885c68d",
   "metadata": {},
   "outputs": [
    {
     "data": {
      "text/plain": [
       "0.6584102491656166"
      ]
     },
     "execution_count": 16,
     "metadata": {},
     "output_type": "execute_result"
    }
   ],
   "source": [
    "# lr classifier\n",
    "from pyspark.ml.classification import LogisticRegression\n",
    "from pyspark.ml.evaluation import MulticlassClassificationEvaluator\n",
    "\n",
    "lr = LogisticRegression(maxIter=20, regParam=0.3, elasticNetParam=0,\n",
    "                       featuresCol=\"vector\")\n",
    "lrModel=lr.fit(trainingDf)\n",
    "\n",
    "predictions = lrModel.transform(testDf)\n",
    "\n",
    "\n",
    "\n",
    "predictions.filter(predictions['prediction'] == 0) \\\n",
    "    .orderBy(\"probability\", ascending=False) \\\n",
    "    .limit( 10)\n",
    "\n",
    "evaluator = MulticlassClassificationEvaluator(predictionCol=\"prediction\")\n",
    "evaluator.evaluate(predictions)"
   ]
  },
  {
   "cell_type": "code",
   "execution_count": 22,
   "id": "28b701d0",
   "metadata": {},
   "outputs": [
    {
     "data": {
      "text/plain": [
       "0.6471128153876217"
      ]
     },
     "execution_count": 22,
     "metadata": {},
     "output_type": "execute_result"
    }
   ],
   "source": [
    "# random forest\n",
    "from pyspark.ml.classification import RandomForestClassifier\n",
    "\n",
    "rf = RandomForestClassifier(labelCol=\"label\", \\\n",
    "                            featuresCol=\"vector\", \\\n",
    "                            numTrees = 100)# Train model with Training Data\n",
    "rfModel = rf.fit(trainingDf)\n",
    "\n",
    "predictions = rfModel.transform(testDf)\n",
    "\n",
    "predictions.filter(predictions['prediction'] == 0) \\\n",
    "    .orderBy(\"probability\", ascending=False) \\\n",
    "    .limit(10)\n",
    "\n",
    "\n",
    "evaluator = MulticlassClassificationEvaluator(predictionCol=\"prediction\")\n",
    "evaluator.evaluate(predictions)"
   ]
  },
  {
   "cell_type": "code",
   "execution_count": 18,
   "id": "40a76f9b",
   "metadata": {},
   "outputs": [
    {
     "name": "stdout",
     "output_type": "stream",
     "text": [
      "Test set accuracy = 0.7188107807724368\n"
     ]
    }
   ],
   "source": [
    "# perceptron classifier\n",
    "# ref: https://spark.apache.org/docs/latest/ml-classification-regression.html#multilayer-perceptron-classifier\n",
    "\n",
    "from pyspark.ml.classification import MultilayerPerceptronClassifier\n",
    "from pyspark.ml.evaluation import MulticlassClassificationEvaluator\n",
    "\n",
    "# specify layers for the neural network:\n",
    "# input layer of size 4 (features), two intermediate of size 5 and 4\n",
    "# and output of size 3 (classes)\n",
    "#layers = [4, 5, 4, 3]\n",
    "layers = [LAYERS,60,17, 3]\n",
    "\n",
    "# create the trainer and set its parameters\n",
    "trainer = MultilayerPerceptronClassifier(maxIter=100, layers=layers, blockSize=128, seed=1234, featuresCol=\"vector\")\n",
    "\n",
    "# train the model\n",
    "pmodel = trainer.fit(trainingDf)\n",
    "\n",
    "# compute accuracy on the test set\n",
    "presult = pmodel.transform(testDf)\n",
    "predictionAndLabels = presult.select(\"prediction\", \"label\")\n",
    "evaluator = MulticlassClassificationEvaluator(metricName=\"accuracy\")\n",
    "print(\"Test set accuracy = \" + str(evaluator.evaluate(predictionAndLabels)))"
   ]
  },
  {
   "cell_type": "code",
   "execution_count": 19,
   "id": "ce71c0de",
   "metadata": {},
   "outputs": [
    {
     "name": "stdout",
     "output_type": "stream",
     "text": [
      "+-----+-----+\n",
      "|label|count|\n",
      "+-----+-----+\n",
      "|  0.0| 2079|\n",
      "|  2.0|  294|\n",
      "|  1.0|  214|\n",
      "+-----+-----+\n",
      "\n"
     ]
    }
   ],
   "source": [
    "correctRows = presult.filter(presult.label==presult.prediction)\n",
    "\n",
    "correctRows.groupBy(\"label\")\\\n",
    "    .count()\\\n",
    "    .orderBy(col(\"count\").desc())\\\n",
    "    .show()"
   ]
  },
  {
   "cell_type": "code",
   "execution_count": null,
   "id": "4ea4f63c",
   "metadata": {},
   "outputs": [],
   "source": []
  }
 ],
 "metadata": {
  "kernelspec": {
   "display_name": "Python 3",
   "language": "python",
   "name": "python3"
  },
  "language_info": {
   "codemirror_mode": {
    "name": "ipython",
    "version": 3
   },
   "file_extension": ".py",
   "mimetype": "text/x-python",
   "name": "python",
   "nbconvert_exporter": "python",
   "pygments_lexer": "ipython3",
   "version": "3.7.10"
  }
 },
 "nbformat": 4,
 "nbformat_minor": 5
}
