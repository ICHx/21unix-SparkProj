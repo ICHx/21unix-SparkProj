{
 "cells": [
  {
   "cell_type": "code",
   "execution_count": 2,
   "id": "d07c78a7",
   "metadata": {},
   "outputs": [],
   "source": [
    "import matplotlib.pyplot as plt\n",
    "import numpy as np\n",
    "import importlib\n"
   ]
  },
  {
   "cell_type": "code",
   "execution_count": 3,
   "id": "0d18e6a6",
   "metadata": {},
   "outputs": [],
   "source": [
    "%matplotlib widget"
   ]
  },
  {
   "cell_type": "code",
   "execution_count": 4,
   "id": "ef3c95a4",
   "metadata": {},
   "outputs": [
    {
     "name": "stdout",
     "output_type": "stream",
     "text": [
      "Using matplotlib backend: module://ipympl.backend_nbagg\n"
     ]
    }
   ],
   "source": [
    "%matplotlib"
   ]
  },
  {
   "cell_type": "code",
   "execution_count": 5,
   "id": "58ec39e5",
   "metadata": {
    "scrolled": false
   },
   "outputs": [
    {
     "data": {
      "application/vnd.jupyter.widget-view+json": {
       "model_id": "5a1f4d357f254e44b00e7b933f5df5e3",
       "version_major": 2,
       "version_minor": 0
      },
      "text/plain": [
       "Canvas(toolbar=Toolbar(toolitems=[('Home', 'Reset original view', 'home', 'home'), ('Back', 'Back to previous …"
      ]
     },
     "metadata": {},
     "output_type": "display_data"
    },
    {
     "data": {
      "text/plain": [
       "[<matplotlib.lines.Line2D at 0x562852b78ad8>]"
      ]
     },
     "execution_count": 5,
     "metadata": {},
     "output_type": "execute_result"
    }
   ],
   "source": [
    "fig = plt.figure()\n",
    "plt.plot(np.sin(np.linspace(0,20,100)))"
   ]
  },
  {
   "cell_type": "code",
   "execution_count": 7,
   "id": "f374fa57",
   "metadata": {},
   "outputs": [],
   "source": [
    "import SMain"
   ]
  },
  {
   "cell_type": "code",
   "execution_count": 8,
   "id": "999fcdaf",
   "metadata": {},
   "outputs": [
    {
     "name": "stdout",
     "output_type": "stream",
     "text": [
      "Hello world, decoding /history\n",
      "Last changed: 13:13\n"
     ]
    },
    {
     "data": {
      "application/vnd.jupyter.widget-view+json": {
       "model_id": "c64049acd8d4489cab7ea7f3f22529dd",
       "version_major": 2,
       "version_minor": 0
      },
      "text/plain": [
       "Canvas(toolbar=Toolbar(toolitems=[('Home', 'Reset original view', 'home', 'home'), ('Back', 'Back to previous …"
      ]
     },
     "metadata": {},
     "output_type": "display_data"
    },
    {
     "name": "stdout",
     "output_type": "stream",
     "text": [
      "+--------------------+--------------------+--------------------+\n",
      "|               value|               token|              vector|\n",
      "+--------------------+--------------------+--------------------+\n",
      "|ssh-keygen -t ed2...|[ssh-keygen, -t, ...|[0.05864425251881...|\n",
      "|ssh-copy-id local...|[ssh-copy-id, loc...|[0.02742356259841...|\n",
      "|     ssh-copy-id zuk|  [ssh-copy-id, zuk]|[0.07655573834199...|\n",
      "|             ssh zuk|          [ssh, zuk]|[0.10348459891974...|\n",
      "|       ssh localhost|    [ssh, localhost]|[0.05435242317616...|\n",
      "|                  ls|                [ls]|[-0.0521698594093...|\n",
      "|curl -LO https://...|[curl, -lo, https...|[0.00148193600277...|\n",
      "|                  ls|                [ls]|[-0.0521698594093...|\n",
      "|                  ll|                [ll]|[0.11029739677906...|\n",
      "|               ll -h|            [ll, -h]|[0.07767373137176...|\n",
      "|curl -LO https://...|[curl, -lo, https...|[-0.0223597977310...|\n",
      "|tar xf hadoop-3.3...|[tar, xf, hadoop-...|[0.00665206462144...|\n",
      "|            ping zuk|         [ping, zuk]|[-1.0339915752410...|\n",
      "|             ip addr|          [ip, addr]|[0.06635685148648...|\n",
      "|                 pwd|               [pwd]|[-0.0438570678234...|\n",
      "|    cd hadoop-3.3.0/| [cd, hadoop-3.3.0/]|[-0.0402185209095...|\n",
      "|              cd bin|           [cd, bin]|[-0.1376607045531...|\n",
      "|                  ls|                [ls]|[-0.0521698594093...|\n",
      "|                  ll|                [ll]|[0.11029739677906...|\n",
      "|                 pwd|               [pwd]|[-0.0438570678234...|\n",
      "+--------------------+--------------------+--------------------+\n",
      "only showing top 20 rows\n",
      "\n",
      "count= 309\n"
     ]
    }
   ],
   "source": [
    "importlib.reload(SMain)\n",
    "SMain.main()"
   ]
  },
  {
   "cell_type": "code",
   "execution_count": null,
   "id": "f4d42a08",
   "metadata": {},
   "outputs": [],
   "source": []
  },
  {
   "cell_type": "code",
   "execution_count": null,
   "id": "9450ddc3",
   "metadata": {},
   "outputs": [],
   "source": []
  }
 ],
 "metadata": {
  "kernelspec": {
   "display_name": "Python 3",
   "language": "python",
   "name": "python3"
  },
  "language_info": {
   "codemirror_mode": {
    "name": "ipython",
    "version": 3
   },
   "file_extension": ".py",
   "mimetype": "text/x-python",
   "name": "python",
   "nbconvert_exporter": "python",
   "pygments_lexer": "ipython3",
   "version": "3.7.10"
  }
 },
 "nbformat": 4,
 "nbformat_minor": 5
}
