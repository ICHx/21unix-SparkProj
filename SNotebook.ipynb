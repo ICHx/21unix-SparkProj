{
 "cells": [
  {
   "cell_type": "code",
   "execution_count": 14,
   "id": "d07c78a7",
   "metadata": {},
   "outputs": [],
   "source": [
    "import matplotlib.pyplot as plt\n",
    "import numpy as np\n",
    "import importlib\n"
   ]
  },
  {
   "cell_type": "code",
   "execution_count": 2,
   "id": "0d18e6a6",
   "metadata": {},
   "outputs": [],
   "source": [
    "%matplotlib widget"
   ]
  },
  {
   "cell_type": "code",
   "execution_count": 3,
   "id": "ef3c95a4",
   "metadata": {},
   "outputs": [
    {
     "name": "stdout",
     "output_type": "stream",
     "text": [
      "Using matplotlib backend: module://ipympl.backend_nbagg\n"
     ]
    }
   ],
   "source": [
    "%matplotlib"
   ]
  },
  {
   "cell_type": "code",
   "execution_count": 4,
   "id": "58ec39e5",
   "metadata": {
    "scrolled": false
   },
   "outputs": [
    {
     "data": {
      "application/vnd.jupyter.widget-view+json": {
       "model_id": "f13c3309f1c54dc5a6de4688b45849e4",
       "version_major": 2,
       "version_minor": 0
      },
      "text/plain": [
       "Canvas(toolbar=Toolbar(toolitems=[('Home', 'Reset original view', 'home', 'home'), ('Back', 'Back to previous …"
      ]
     },
     "metadata": {},
     "output_type": "display_data"
    },
    {
     "data": {
      "text/plain": [
       "[<matplotlib.lines.Line2D at 0x7f4d27506c10>]"
      ]
     },
     "execution_count": 4,
     "metadata": {},
     "output_type": "execute_result"
    }
   ],
   "source": [
    "fig = plt.figure()\n",
    "plt.plot(np.sin(np.linspace(0,20,100)))"
   ]
  },
  {
   "cell_type": "code",
   "execution_count": 11,
   "id": "f374fa57",
   "metadata": {},
   "outputs": [],
   "source": [
    "import SMain"
   ]
  },
  {
   "cell_type": "code",
   "execution_count": 15,
   "id": "999fcdaf",
   "metadata": {},
   "outputs": [
    {
     "name": "stdout",
     "output_type": "stream",
     "text": [
      "Hello world, decoding /history\n",
      "Last changed: 13:13\n"
     ]
    },
    {
     "data": {
      "application/vnd.jupyter.widget-view+json": {
       "model_id": "2b65d294c3f64991a95c54347c490166",
       "version_major": 2,
       "version_minor": 0
      },
      "text/plain": [
       "Canvas(toolbar=Toolbar(toolitems=[('Home', 'Reset original view', 'home', 'home'), ('Back', 'Back to previous …"
      ]
     },
     "metadata": {},
     "output_type": "display_data"
    },
    {
     "name": "stdout",
     "output_type": "stream",
     "text": [
      "+--------------------+--------------------+--------------------+\n",
      "|               value|               token|              vector|\n",
      "+--------------------+--------------------+--------------------+\n",
      "|ssh-keygen -t ed2...|[ssh-keygen, -t, ...|[-0.0181630759810...|\n",
      "|ssh-copy-id local...|[ssh-copy-id, loc...|[-0.0173896625638...|\n",
      "|     ssh-copy-id zuk|  [ssh-copy-id, zuk]|[0.02035132050514...|\n",
      "|             ssh zuk|          [ssh, zuk]|[0.00527860224246...|\n",
      "|       ssh localhost|    [ssh, localhost]|[-0.0324623808264...|\n",
      "|                  ls|                [ls]|[-0.0392344295978...|\n",
      "|curl -LO https://...|[curl, -lo, https...|[0.09984022627274...|\n",
      "|                  ls|                [ls]|[-0.0392344295978...|\n",
      "|                  ll|                [ll]|[-0.0728134438395...|\n",
      "|               ll -h|            [ll, -h]|[-0.0307059818878...|\n",
      "|curl -LO https://...|[curl, -lo, https...|[0.10003865758577...|\n",
      "|tar xf hadoop-3.3...|[tar, xf, hadoop-...|[0.00267622371514...|\n",
      "|            ping zuk|         [ping, zuk]|[-0.0797826424241...|\n",
      "|             ip addr|          [ip, addr]|[-0.0088928937911...|\n",
      "|                 pwd|               [pwd]|[0.11256600916385...|\n",
      "|    cd hadoop-3.3.0/| [cd, hadoop-3.3.0/]|[-0.0613746251910...|\n",
      "|              cd bin|           [cd, bin]|[0.05405289493501...|\n",
      "|                  ls|                [ls]|[-0.0392344295978...|\n",
      "|                  ll|                [ll]|[-0.0728134438395...|\n",
      "|                 pwd|               [pwd]|[0.11256600916385...|\n",
      "+--------------------+--------------------+--------------------+\n",
      "only showing top 20 rows\n",
      "\n",
      "count= 309\n"
     ]
    }
   ],
   "source": [
    "importlib.reload(SMain)\n",
    "SMain.main()"
   ]
  },
  {
   "cell_type": "code",
   "execution_count": null,
   "id": "f4d42a08",
   "metadata": {},
   "outputs": [],
   "source": []
  },
  {
   "cell_type": "code",
   "execution_count": null,
   "id": "9450ddc3",
   "metadata": {},
   "outputs": [],
   "source": []
  }
 ],
 "metadata": {
  "kernelspec": {
   "display_name": "Python 3",
   "language": "python",
   "name": "python3"
  },
  "language_info": {
   "codemirror_mode": {
    "name": "ipython",
    "version": 3
   },
   "file_extension": ".py",
   "mimetype": "text/x-python",
   "name": "python",
   "nbconvert_exporter": "python",
   "pygments_lexer": "ipython3",
   "version": "3.8.5"
  }
 },
 "nbformat": 4,
 "nbformat_minor": 5
}
